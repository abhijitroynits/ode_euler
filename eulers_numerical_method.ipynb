{
 "cells": [
  {
   "cell_type": "markdown",
   "metadata": {},
   "source": [
    "# Question Description\n",
    "\n",
    "Using Euler's method and writing python program to approximate the solution of the function on the interval [0,4].\n",
    "\n",
    "\n",
    "$dy/dx = y$ , $y(0) = 1000$, $y(x) = 1000e^x$"
   ]
  },
  {
   "cell_type": "code",
   "execution_count": 64,
   "metadata": {},
   "outputs": [],
   "source": [
    "import math\n",
    "import numpy as np\n",
    "import matplotlib.pyplot as plt\n",
    "import pprint  # for pretty printing"
   ]
  },
  {
   "cell_type": "code",
   "execution_count": 65,
   "metadata": {},
   "outputs": [],
   "source": [
    "# Exact Function\n",
    "def exact_func(x):\n",
    "  return 1000*math.exp(x)\n",
    "\n",
    "xvals = [0, 0.25, 0.50, 1, 1.25, 1.50, 2, 2.25, 2.50, 3, 3.25, 3.50, 4]\n",
    "yvals = []\n",
    "for x in xvals:\n",
    "  yvals.append(exact_func(x))"
   ]
  },
  {
   "cell_type": "code",
   "execution_count": 66,
   "metadata": {},
   "outputs": [
    {
     "name": "stdout",
     "output_type": "stream",
     "text": [
      "Exact x-y values :\n",
      "\n",
      "Xs over [0, 4] in steps of 0.25:\n",
      "[0, 0.25, 0.5, 1, 1.25, 1.5, 2, 2.25, 2.5, 3, 3.25, 3.5, 4]\n",
      "\n",
      "Ys for y = 1000*math.exp(x):\n",
      "[1000.0,\n",
      " 1284.0254166877414,\n",
      " 1648.7212707001281,\n",
      " 2718.2818284590453,\n",
      " 3490.3429574618413,\n",
      " 4481.689070338064,\n",
      " 7389.0560989306505,\n",
      " 9487.735836358526,\n",
      " 12182.493960703474,\n",
      " 20085.53692318767,\n",
      " 25790.33991719306,\n",
      " 33115.45195869231,\n",
      " 54598.15003314424]\n"
     ]
    }
   ],
   "source": [
    "print('Exact x-y values :')\n",
    "print('\\nXs over [0, 4] in steps of 0.25:')\n",
    "pprint.pprint(xvals)\n",
    "print('\\nYs for y = 1000*math.exp(x):')\n",
    "pprint.pprint(yvals)"
   ]
  },
  {
   "cell_type": "code",
   "execution_count": 67,
   "metadata": {},
   "outputs": [],
   "source": [
    "# Approximate numerical analysis using Euler's Method\n",
    "# dy/dx = y\n",
    "def func(x, y):\n",
    "    return y\n",
    "\n",
    "# Function for Euler formula\n",
    "# y(n+1) = y(n) + h * f(x(n), y(n))\n",
    "\n",
    "# where h = (x(n) – x(0)) / n\n",
    "# h indicates step size. Choosing smaller\n",
    "# values of h leads to more accurate results and more computation time. \n",
    "\n",
    "\n",
    "x_vals = []\n",
    "y_vals = []\n",
    "x0 = 0\n",
    "y0 = 1000\n",
    "xn = 4\n",
    "h = 0.25\n",
    "\n",
    "def euler(x0, xn, h, y0): \n",
    "  temp_x = x0\n",
    "  temp_y = y0\n",
    "  x_vals.append(x0)\n",
    "  y_vals.append(y0)\n",
    "  \n",
    "  # Iterating until x = 4, the interval being [0, 4]\n",
    "  for r in np.arange(x0, xn, h):\n",
    "      temp_x = r + h\n",
    "      y = temp_y + h * func(temp_x, temp_y)\n",
    "      y_vals.append(y)\n",
    "      x_vals.append(temp_x)\n",
    "      temp_y = y\n",
    "\n",
    "euler(x0, xn, h, 1000)"
   ]
  },
  {
   "cell_type": "code",
   "execution_count": 68,
   "metadata": {},
   "outputs": [
    {
     "name": "stdout",
     "output_type": "stream",
     "text": [
      "\n",
      "Exact X's with approximate Y values :\n",
      "\n",
      "Xs over [0, 4] in steps of 0.25:\n",
      "[0,\n",
      " 0.25,\n",
      " 0.5,\n",
      " 0.75,\n",
      " 1.0,\n",
      " 1.25,\n",
      " 1.5,\n",
      " 1.75,\n",
      " 2.0,\n",
      " 2.25,\n",
      " 2.5,\n",
      " 2.75,\n",
      " 3.0,\n",
      " 3.25,\n",
      " 3.5,\n",
      " 3.75,\n",
      " 4.0]\n",
      "\n",
      "Approximate Ys using Euler's Method:\n",
      "[1000,\n",
      " 1250.0,\n",
      " 1562.5,\n",
      " 1953.125,\n",
      " 2441.40625,\n",
      " 3051.7578125,\n",
      " 3814.697265625,\n",
      " 4768.37158203125,\n",
      " 5960.4644775390625,\n",
      " 7450.580596923828,\n",
      " 9313.225746154785,\n",
      " 11641.532182693481,\n",
      " 14551.915228366852,\n",
      " 18189.894035458565,\n",
      " 22737.367544323206,\n",
      " 28421.709430404007,\n",
      " 35527.13678800501]\n"
     ]
    }
   ],
   "source": [
    "print(\"\\nExact X's with approximate Y values :\")\n",
    "print('\\nXs over [0, 4] in steps of 0.25:')\n",
    "pprint.pprint(x_vals)\n",
    "print(\"\\nApproximate Ys using Euler's Method:\")\n",
    "pprint.pprint(y_vals)"
   ]
  },
  {
   "cell_type": "code",
   "execution_count": 69,
   "metadata": {},
   "outputs": [
    {
     "data": {
      "image/png": "[encoded data removed]",
      "text/plain": [
       "<Figure size 432x288 with 1 Axes>"
      ]
     },
     "metadata": {
      "needs_background": "light"
     },
     "output_type": "display_data"
    }
   ],
   "source": [
    "# Plotting all observations\n",
    "plt.title(\"Euler's Method of Numerical Analysis\")\n",
    "plt.plot(xvals, yvals, c='blue', label='exact')\n",
    "plt.plot(x_vals, y_vals, c='red', label='approximate')\n",
    "plt.legend()\n",
    "plt.show()"
   ]
  }
 ],
 "metadata": {
  "kernelspec": {
   "display_name": "Python 3",
   "language": "python",
   "name": "python3"
  },
  "language_info": {
   "codemirror_mode": {
    "name": "ipython",
    "version": 3
   },
   "file_extension": ".py",
   "mimetype": "text/x-python",
   "name": "python",
   "nbconvert_exporter": "python",
   "pygments_lexer": "ipython3",
   "version": "3.7.3"
  }
 },
 "nbformat": 4,
 "nbformat_minor": 4
}
